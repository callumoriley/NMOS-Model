{
 "cells": [
  {
   "cell_type": "code",
   "execution_count": 1,
   "id": "92d50100",
   "metadata": {},
   "outputs": [],
   "source": [
    "from ipywidgets import interact\n",
    "import ipywidgets as widgets\n",
    "import matplotlib.pyplot as plt\n",
    "import numpy as np\n",
    "\n",
    "# Example 5.3 from Sedra & Smith\n",
    "Vth = 0.7\n",
    "mu_n = 0.1*1000 # means output plot will be in mA\n",
    "C_ox = 1e-3\n",
    "W = 32e-6\n",
    "L = 1e-6\n",
    "l = 0 # lambda, for channel length modulation (set to 0 to disable)\n",
    "\n",
    "def nmos_transistor(Vg, Vd, Vs, Vb):\n",
    "    Vgs = Vg - Vs\n",
    "    Vds = Vd - Vs\n",
    "    \n",
    "    if (Vgs < Vth): # cutoff\n",
    "        return 0\n",
    "    elif (Vgs > Vth) & ((Vgs - Vth) > Vds): # triode\n",
    "        return mu_n*C_ox*W/L*((Vgs - Vth)*Vds-0.5*Vds**2)\n",
    "    \n",
    "    return 1/2*mu_n*C_ox*W/L*(Vgs - Vth)**2*(1+l*Vds) # saturation"
   ]
  },
  {
   "cell_type": "code",
   "execution_count": 2,
   "id": "8bb5f75b",
   "metadata": {},
   "outputs": [
    {
     "data": {
      "application/vnd.jupyter.widget-view+json": {
       "model_id": "b0c90455beea4c588d507b26309b5861",
       "version_major": 2,
       "version_minor": 0
      },
      "text/plain": [
       "interactive(children=(FloatSlider(value=1.0, description='Vds', max=10.0, min=-10.0), Output()), _dom_classes=…"
      ]
     },
     "metadata": {},
     "output_type": "display_data"
    }
   ],
   "source": [
    "@interact(Vds=widgets.FloatSlider(value=1.0, min=-10.0, max=10.0, step=0.1))\n",
    "def update_Vgs_plot(Vds):\n",
    "    fig, ax = plt.subplots()\n",
    "    Vgs = np.linspace(0, 10, num=100, dtype=np.float64)\n",
    "    \n",
    "    process_function = lambda x: nmos_transistor(x, Vds, 0, 0)\n",
    "    apply_all = np.vectorize(process_function)\n",
    "    \n",
    "    Id = apply_all(Vgs)\n",
    "    ax.set_xlim([0, 10])\n",
    "    #ax.set_ylim([0, 5])\n",
    "    ax.plot(Vgs, Id)\n",
    "    plt.show()"
   ]
  },
  {
   "cell_type": "code",
   "execution_count": 3,
   "id": "cda0613a",
   "metadata": {},
   "outputs": [
    {
     "data": {
      "text/plain": [
       "0.4"
      ]
     },
     "execution_count": 3,
     "metadata": {},
     "output_type": "execute_result"
    }
   ],
   "source": [
    "nmos_transistor(1.2, 1.7, 0, 0)"
   ]
  },
  {
   "cell_type": "code",
   "execution_count": 4,
   "id": "e361d1f0",
   "metadata": {},
   "outputs": [
    {
     "data": {
      "application/vnd.jupyter.widget-view+json": {
       "model_id": "c669cb0cf04b4ec0b08bf80b92c8c02e",
       "version_major": 2,
       "version_minor": 0
      },
      "text/plain": [
       "interactive(children=(FloatSlider(value=1.0, description='Vgs', max=10.0, min=-10.0), Output()), _dom_classes=…"
      ]
     },
     "metadata": {},
     "output_type": "display_data"
    }
   ],
   "source": [
    "@interact(Vgs=widgets.FloatSlider(value=1.0, min=-10.0, max=10.0, step=0.1))\n",
    "def update_Vds_plot(Vgs):\n",
    "    fig, ax = plt.subplots()\n",
    "    Vds = np.linspace(0, 10, num=100, dtype=np.float64)\n",
    "    \n",
    "    process_function = lambda x: nmos_transistor(Vgs, x, 0, 0)\n",
    "    apply_all = np.vectorize(process_function)\n",
    "    \n",
    "    Id = apply_all(Vds)\n",
    "    ax.set_xlim([0, 10])\n",
    "    #ax.set_ylim([0, 5])\n",
    "    ax.plot(Vds, Id)\n",
    "    plt.show()"
   ]
  },
  {
   "cell_type": "code",
   "execution_count": 5,
   "id": "dff035fb",
   "metadata": {},
   "outputs": [
    {
     "data": {
      "application/vnd.jupyter.widget-view+json": {
       "model_id": "13f45d875b4e4096984a7315e332c2d7",
       "version_major": 2,
       "version_minor": 0
      },
      "text/plain": [
       "interactive(children=(FloatSlider(value=1.0, description='Vgs', max=10.0, min=-10.0), Output()), _dom_classes=…"
      ]
     },
     "metadata": {},
     "output_type": "display_data"
    }
   ],
   "source": [
    "@interact(Vgs=widgets.FloatSlider(value=1.0, min=-10.0, max=10.0, step=0.1))\n",
    "def update_both_plot(Vgs):\n",
    "    fig, ax = plt.subplots()\n",
    "    Vgs_steps = np.linspace(0, 3, num=4, dtype=np.float64)+Vgs\n",
    "    Vds = np.linspace(0, 10, num=100, dtype=np.float64) # plotting against this\n",
    "    \n",
    "    ax.set_xlim([0, 10])\n",
    "    ax.set_ylim([0, 10])\n",
    "    \n",
    "    for Vgs_elem in Vgs_steps:\n",
    "        process_function = lambda x: nmos_transistor(Vgs_elem, x, 0, 0)\n",
    "        apply_all = np.vectorize(process_function)\n",
    "\n",
    "        Id = apply_all(Vds)\n",
    "        ax.plot(Vds, Id)\n",
    "    \n",
    "    process_function = lambda x: nmos_transistor(x + Vth, x, 0, 0)\n",
    "    apply_all = np.vectorize(process_function)\n",
    "\n",
    "    Id = apply_all(Vds)\n",
    "    ax.plot(Vds, Id)\n",
    "            \n",
    "    plt.show()"
   ]
  },
  {
   "cell_type": "code",
   "execution_count": null,
   "id": "f09597ba",
   "metadata": {},
   "outputs": [],
   "source": []
  }
 ],
 "metadata": {
  "kernelspec": {
   "display_name": "Python 3 (ipykernel)",
   "language": "python",
   "name": "python3"
  },
  "language_info": {
   "codemirror_mode": {
    "name": "ipython",
    "version": 3
   },
   "file_extension": ".py",
   "mimetype": "text/x-python",
   "name": "python",
   "nbconvert_exporter": "python",
   "pygments_lexer": "ipython3",
   "version": "3.10.5"
  }
 },
 "nbformat": 4,
 "nbformat_minor": 5
}
